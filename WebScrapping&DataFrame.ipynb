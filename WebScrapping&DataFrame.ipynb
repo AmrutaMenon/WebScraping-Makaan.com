{
 "cells": [
  {
   "cell_type": "code",
   "execution_count": 2,
   "metadata": {},
   "outputs": [],
   "source": [
    "import requests\n",
    "from bs4 import BeautifulSoup\n",
    "import pandas as pd"
   ]
  },
  {
   "cell_type": "code",
   "execution_count": 6,
   "metadata": {},
   "outputs": [
    {
     "data": {
      "text/plain": [
       "<Response [200]>"
      ]
     },
     "execution_count": 6,
     "metadata": {},
     "output_type": "execute_result"
    }
   ],
   "source": [
    "url='https://www.makaan.com/hyderabad-residential-property/buy-property-in-hyderabad-city'\n",
    "req=requests.get(url)\n",
    "req"
   ]
  },
  {
   "cell_type": "code",
   "execution_count": 7,
   "metadata": {},
   "outputs": [],
   "source": [
    "soup=BeautifulSoup(req.text,'html')\n"
   ]
  },
  {
   "cell_type": "code",
   "execution_count": 13,
   "metadata": {},
   "outputs": [
    {
     "data": {
      "text/plain": [
       "'3 '"
      ]
     },
     "execution_count": 13,
     "metadata": {},
     "output_type": "execute_result"
    }
   ],
   "source": [
    "soup.find('div',attrs={'class':'title-line'}).strong.span.text   #BHK info"
   ]
  },
  {
   "cell_type": "code",
   "execution_count": 14,
   "metadata": {},
   "outputs": [
    {
     "data": {
      "text/plain": [
       "['3',\n",
       " '2',\n",
       " '2',\n",
       " '2',\n",
       " '3',\n",
       " '3',\n",
       " '4',\n",
       " '3',\n",
       " 'Residential Plot',\n",
       " '3',\n",
       " '4',\n",
       " '2',\n",
       " '2',\n",
       " '3',\n",
       " '3',\n",
       " '3',\n",
       " '3',\n",
       " '4',\n",
       " '3',\n",
       " '4']"
      ]
     },
     "execution_count": 14,
     "metadata": {},
     "output_type": "execute_result"
    }
   ],
   "source": [
    "bhk_inf=soup.findAll('div',attrs={'class':'title-line'})\n",
    "BHK_info=[i.strong.span.text.strip() for i in bhk_inf]\n",
    "BHK_info"
   ]
  },
  {
   "cell_type": "code",
   "execution_count": 15,
   "metadata": {},
   "outputs": [
    {
     "data": {
      "text/plain": [
       "'Manikonda'"
      ]
     },
     "execution_count": 15,
     "metadata": {},
     "output_type": "execute_result"
    }
   ],
   "source": [
    "soup.find('span',attrs={'itemprop':'addressLocality'}).text   #loc_info"
   ]
  },
  {
   "cell_type": "code",
   "execution_count": 17,
   "metadata": {},
   "outputs": [
    {
     "data": {
      "text/plain": [
       "['Manikonda',\n",
       " 'Shaikpet',\n",
       " 'Bachupally',\n",
       " 'Shamshabad',\n",
       " 'Tellapur',\n",
       " 'Attapur',\n",
       " 'Serilingampally',\n",
       " 'Yapral',\n",
       " 'Sheriguda',\n",
       " 'Manikonda',\n",
       " 'Bachupally',\n",
       " 'Ghatkesar',\n",
       " 'Attapur',\n",
       " 'Kompally',\n",
       " 'Shankarpalli',\n",
       " 'Nanakramguda',\n",
       " 'Mallampet',\n",
       " 'Hitech City',\n",
       " 'Manikonda',\n",
       " 'Shaikpet']"
      ]
     },
     "execution_count": 17,
     "metadata": {},
     "output_type": "execute_result"
    }
   ],
   "source": [
    "loc_inf=soup.findAll('span',attrs={'itemprop':'addressLocality'})\n",
    "LOC_info=[i.text for i in loc_inf]\n",
    "LOC_info"
   ]
  },
  {
   "cell_type": "code",
   "execution_count": 18,
   "metadata": {},
   "outputs": [
    {
     "data": {
      "text/plain": [
       "'BUILDER'"
      ]
     },
     "execution_count": 18,
     "metadata": {},
     "output_type": "execute_result"
    }
   ],
   "source": [
    "soup.find('span',attrs={'class':'seller-type'}).text  #owner info"
   ]
  },
  {
   "cell_type": "code",
   "execution_count": 19,
   "metadata": {},
   "outputs": [
    {
     "data": {
      "text/plain": [
       "['BUILDER',\n",
       " 'BUILDER',\n",
       " 'BUILDER',\n",
       " 'BUILDER',\n",
       " 'BUILDER',\n",
       " 'BUILDER',\n",
       " 'BUILDER',\n",
       " 'BUILDER',\n",
       " 'BUILDER',\n",
       " 'BUILDER',\n",
       " 'BUILDER',\n",
       " 'BUILDER',\n",
       " 'BUILDER',\n",
       " 'BUILDER',\n",
       " 'BUILDER',\n",
       " 'BUILDER',\n",
       " 'BUILDER',\n",
       " 'BUILDER',\n",
       " 'BUILDER',\n",
       " 'BUILDER']"
      ]
     },
     "execution_count": 19,
     "metadata": {},
     "output_type": "execute_result"
    }
   ],
   "source": [
    "own_inf=soup.findAll('span',attrs={'class':'seller-type'})\n",
    "OWN_inf=[i.text for i in own_inf]\n",
    "OWN_inf"
   ]
  },
  {
   "cell_type": "code",
   "execution_count": 20,
   "metadata": {},
   "outputs": [
    {
     "data": {
      "text/plain": [
       "' 1.6 Cr'"
      ]
     },
     "execution_count": 20,
     "metadata": {},
     "output_type": "execute_result"
    }
   ],
   "source": [
    "soup.find('div',attrs={'data-type':'price-link'}).text  #price info"
   ]
  },
  {
   "cell_type": "code",
   "execution_count": 22,
   "metadata": {},
   "outputs": [
    {
     "data": {
      "text/plain": [
       "[' 1.6 Cr',\n",
       " ' 1.43 Cr',\n",
       " ' 56.98 L',\n",
       " ' 43.6 L',\n",
       " ' 65.82 L',\n",
       " ' 1.65 Cr',\n",
       " ' 6.22 Cr',\n",
       " ' 1.41 Cr',\n",
       " ' 1.11 Cr',\n",
       " ' 95.35 L',\n",
       " ' 1.45 Cr',\n",
       " ' 56.25 L',\n",
       " ' 72.05 L',\n",
       " ' 84.13 L',\n",
       " ' 1.46 Cr',\n",
       " ' 96.22 L',\n",
       " ' 63.11 L',\n",
       " ' 2.9 Cr',\n",
       " ' 97.11 L',\n",
       " ' 3.04 Cr']"
      ]
     },
     "execution_count": 22,
     "metadata": {},
     "output_type": "execute_result"
    }
   ],
   "source": [
    "price=soup.findAll('div',attrs={'data-type':'price-link'})\n",
    "Price_info=[i.text for i in price]\n",
    "Price_info"
   ]
  },
  {
   "cell_type": "code",
   "execution_count": 24,
   "metadata": {},
   "outputs": [
    {
     "data": {
      "text/plain": [
       "<span class=\"val js-tag\"></span>"
      ]
     },
     "execution_count": 24,
     "metadata": {},
     "output_type": "execute_result"
    }
   ],
   "source": [
    "soup.find('span',attrs={'class':'val'})\n"
   ]
  },
  {
   "cell_type": "code",
   "execution_count": 26,
   "metadata": {},
   "outputs": [
    {
     "data": {
      "text/plain": [
       "'2810 '"
      ]
     },
     "execution_count": 26,
     "metadata": {},
     "output_type": "execute_result"
    }
   ],
   "source": [
    "soup.find('td',attrs={'class':'size'}).span.text    #area in sqft"
   ]
  },
  {
   "cell_type": "code",
   "execution_count": 27,
   "metadata": {},
   "outputs": [
    {
     "data": {
      "text/plain": [
       "['2810',\n",
       " '1495',\n",
       " '1295',\n",
       " '890',\n",
       " '1431',\n",
       " '2540',\n",
       " '4147',\n",
       " '2615',\n",
       " '3150',\n",
       " '1538',\n",
       " '2300',\n",
       " '1250',\n",
       " '1310',\n",
       " '1790',\n",
       " '3120',\n",
       " '1415',\n",
       " '1503',\n",
       " '3498',\n",
       " '1704',\n",
       " '2965']"
      ]
     },
     "execution_count": 27,
     "metadata": {},
     "output_type": "execute_result"
    }
   ],
   "source": [
    "area=soup.findAll('td',attrs={'class':'size'})\n",
    "Area_sqft=[i.span.text.strip() for i in area]\n",
    "Area_sqft"
   ]
  },
  {
   "cell_type": "code",
   "execution_count": 28,
   "metadata": {},
   "outputs": [
    {
     "data": {
      "text/plain": [
       "'Under Construction'"
      ]
     },
     "execution_count": 28,
     "metadata": {},
     "output_type": "execute_result"
    }
   ],
   "source": [
    "soup.find('td',attrs={'class':'val'}).text  #constr status"
   ]
  },
  {
   "cell_type": "code",
   "execution_count": 31,
   "metadata": {},
   "outputs": [
    {
     "data": {
      "text/plain": [
       "['Under Construction',\n",
       " 'Ready to move',\n",
       " 'Under Construction',\n",
       " 'Under Construction',\n",
       " 'Under Construction',\n",
       " 'Under Construction',\n",
       " 'Under Construction',\n",
       " 'Under Construction',\n",
       " 'New',\n",
       " 'Under Construction',\n",
       " 'Under Construction',\n",
       " 'Under Construction',\n",
       " 'Under Construction',\n",
       " 'Under Construction',\n",
       " 'Under Construction',\n",
       " 'Ready to move',\n",
       " 'Under Construction',\n",
       " 'Ready to move',\n",
       " 'Under Construction',\n",
       " 'Ready to move']"
      ]
     },
     "execution_count": 31,
     "metadata": {},
     "output_type": "execute_result"
    }
   ],
   "source": [
    "con_inf=soup.findAll('td',attrs={'class':'val'})\n",
    "CON_info=[i.text for i in con_inf]\n",
    "CON_info"
   ]
  },
  {
   "cell_type": "code",
   "execution_count": 35,
   "metadata": {},
   "outputs": [
    {
     "data": {
      "text/html": [
       "<div>\n",
       "<style scoped>\n",
       "    .dataframe tbody tr th:only-of-type {\n",
       "        vertical-align: middle;\n",
       "    }\n",
       "\n",
       "    .dataframe tbody tr th {\n",
       "        vertical-align: top;\n",
       "    }\n",
       "\n",
       "    .dataframe thead th {\n",
       "        text-align: right;\n",
       "    }\n",
       "</style>\n",
       "<table border=\"1\" class=\"dataframe\">\n",
       "  <thead>\n",
       "    <tr style=\"text-align: right;\">\n",
       "      <th></th>\n",
       "      <th>Construction</th>\n",
       "      <th>Area_in_Sqft</th>\n",
       "      <th>Price</th>\n",
       "      <th>Owner_info</th>\n",
       "      <th>Locality</th>\n",
       "      <th>BHK</th>\n",
       "    </tr>\n",
       "  </thead>\n",
       "  <tbody>\n",
       "    <tr>\n",
       "      <th>0</th>\n",
       "      <td>Under Construction</td>\n",
       "      <td>2810</td>\n",
       "      <td>1.6 Cr</td>\n",
       "      <td>BUILDER</td>\n",
       "      <td>Manikonda</td>\n",
       "      <td>3</td>\n",
       "    </tr>\n",
       "    <tr>\n",
       "      <th>1</th>\n",
       "      <td>Ready to move</td>\n",
       "      <td>1495</td>\n",
       "      <td>1.43 Cr</td>\n",
       "      <td>BUILDER</td>\n",
       "      <td>Shaikpet</td>\n",
       "      <td>2</td>\n",
       "    </tr>\n",
       "    <tr>\n",
       "      <th>2</th>\n",
       "      <td>Under Construction</td>\n",
       "      <td>1295</td>\n",
       "      <td>56.98 L</td>\n",
       "      <td>BUILDER</td>\n",
       "      <td>Bachupally</td>\n",
       "      <td>2</td>\n",
       "    </tr>\n",
       "    <tr>\n",
       "      <th>3</th>\n",
       "      <td>Under Construction</td>\n",
       "      <td>890</td>\n",
       "      <td>43.6 L</td>\n",
       "      <td>BUILDER</td>\n",
       "      <td>Shamshabad</td>\n",
       "      <td>2</td>\n",
       "    </tr>\n",
       "    <tr>\n",
       "      <th>4</th>\n",
       "      <td>Under Construction</td>\n",
       "      <td>1431</td>\n",
       "      <td>65.82 L</td>\n",
       "      <td>BUILDER</td>\n",
       "      <td>Tellapur</td>\n",
       "      <td>3</td>\n",
       "    </tr>\n",
       "    <tr>\n",
       "      <th>5</th>\n",
       "      <td>Under Construction</td>\n",
       "      <td>2540</td>\n",
       "      <td>1.65 Cr</td>\n",
       "      <td>BUILDER</td>\n",
       "      <td>Attapur</td>\n",
       "      <td>3</td>\n",
       "    </tr>\n",
       "    <tr>\n",
       "      <th>6</th>\n",
       "      <td>Under Construction</td>\n",
       "      <td>4147</td>\n",
       "      <td>6.22 Cr</td>\n",
       "      <td>BUILDER</td>\n",
       "      <td>Serilingampally</td>\n",
       "      <td>4</td>\n",
       "    </tr>\n",
       "    <tr>\n",
       "      <th>7</th>\n",
       "      <td>Under Construction</td>\n",
       "      <td>2615</td>\n",
       "      <td>1.41 Cr</td>\n",
       "      <td>BUILDER</td>\n",
       "      <td>Yapral</td>\n",
       "      <td>3</td>\n",
       "    </tr>\n",
       "    <tr>\n",
       "      <th>8</th>\n",
       "      <td>New</td>\n",
       "      <td>3150</td>\n",
       "      <td>1.11 Cr</td>\n",
       "      <td>BUILDER</td>\n",
       "      <td>Sheriguda</td>\n",
       "      <td>Residential Plot</td>\n",
       "    </tr>\n",
       "    <tr>\n",
       "      <th>9</th>\n",
       "      <td>Under Construction</td>\n",
       "      <td>1538</td>\n",
       "      <td>95.35 L</td>\n",
       "      <td>BUILDER</td>\n",
       "      <td>Manikonda</td>\n",
       "      <td>3</td>\n",
       "    </tr>\n",
       "    <tr>\n",
       "      <th>10</th>\n",
       "      <td>Under Construction</td>\n",
       "      <td>2300</td>\n",
       "      <td>1.45 Cr</td>\n",
       "      <td>BUILDER</td>\n",
       "      <td>Bachupally</td>\n",
       "      <td>4</td>\n",
       "    </tr>\n",
       "    <tr>\n",
       "      <th>11</th>\n",
       "      <td>Under Construction</td>\n",
       "      <td>1250</td>\n",
       "      <td>56.25 L</td>\n",
       "      <td>BUILDER</td>\n",
       "      <td>Ghatkesar</td>\n",
       "      <td>2</td>\n",
       "    </tr>\n",
       "    <tr>\n",
       "      <th>12</th>\n",
       "      <td>Under Construction</td>\n",
       "      <td>1310</td>\n",
       "      <td>72.05 L</td>\n",
       "      <td>BUILDER</td>\n",
       "      <td>Attapur</td>\n",
       "      <td>2</td>\n",
       "    </tr>\n",
       "    <tr>\n",
       "      <th>13</th>\n",
       "      <td>Under Construction</td>\n",
       "      <td>1790</td>\n",
       "      <td>84.13 L</td>\n",
       "      <td>BUILDER</td>\n",
       "      <td>Kompally</td>\n",
       "      <td>3</td>\n",
       "    </tr>\n",
       "    <tr>\n",
       "      <th>14</th>\n",
       "      <td>Under Construction</td>\n",
       "      <td>3120</td>\n",
       "      <td>1.46 Cr</td>\n",
       "      <td>BUILDER</td>\n",
       "      <td>Shankarpalli</td>\n",
       "      <td>3</td>\n",
       "    </tr>\n",
       "    <tr>\n",
       "      <th>15</th>\n",
       "      <td>Ready to move</td>\n",
       "      <td>1415</td>\n",
       "      <td>96.22 L</td>\n",
       "      <td>BUILDER</td>\n",
       "      <td>Nanakramguda</td>\n",
       "      <td>3</td>\n",
       "    </tr>\n",
       "    <tr>\n",
       "      <th>16</th>\n",
       "      <td>Under Construction</td>\n",
       "      <td>1503</td>\n",
       "      <td>63.11 L</td>\n",
       "      <td>BUILDER</td>\n",
       "      <td>Mallampet</td>\n",
       "      <td>3</td>\n",
       "    </tr>\n",
       "    <tr>\n",
       "      <th>17</th>\n",
       "      <td>Ready to move</td>\n",
       "      <td>3498</td>\n",
       "      <td>2.9 Cr</td>\n",
       "      <td>BUILDER</td>\n",
       "      <td>Hitech City</td>\n",
       "      <td>4</td>\n",
       "    </tr>\n",
       "    <tr>\n",
       "      <th>18</th>\n",
       "      <td>Under Construction</td>\n",
       "      <td>1704</td>\n",
       "      <td>97.11 L</td>\n",
       "      <td>BUILDER</td>\n",
       "      <td>Manikonda</td>\n",
       "      <td>3</td>\n",
       "    </tr>\n",
       "    <tr>\n",
       "      <th>19</th>\n",
       "      <td>Ready to move</td>\n",
       "      <td>2965</td>\n",
       "      <td>3.04 Cr</td>\n",
       "      <td>BUILDER</td>\n",
       "      <td>Shaikpet</td>\n",
       "      <td>4</td>\n",
       "    </tr>\n",
       "  </tbody>\n",
       "</table>\n",
       "</div>"
      ],
      "text/plain": [
       "          Construction Area_in_Sqft     Price Owner_info         Locality  \\\n",
       "0   Under Construction         2810    1.6 Cr    BUILDER        Manikonda   \n",
       "1        Ready to move         1495   1.43 Cr    BUILDER         Shaikpet   \n",
       "2   Under Construction         1295   56.98 L    BUILDER       Bachupally   \n",
       "3   Under Construction          890    43.6 L    BUILDER       Shamshabad   \n",
       "4   Under Construction         1431   65.82 L    BUILDER         Tellapur   \n",
       "5   Under Construction         2540   1.65 Cr    BUILDER          Attapur   \n",
       "6   Under Construction         4147   6.22 Cr    BUILDER  Serilingampally   \n",
       "7   Under Construction         2615   1.41 Cr    BUILDER           Yapral   \n",
       "8                  New         3150   1.11 Cr    BUILDER        Sheriguda   \n",
       "9   Under Construction         1538   95.35 L    BUILDER        Manikonda   \n",
       "10  Under Construction         2300   1.45 Cr    BUILDER       Bachupally   \n",
       "11  Under Construction         1250   56.25 L    BUILDER        Ghatkesar   \n",
       "12  Under Construction         1310   72.05 L    BUILDER          Attapur   \n",
       "13  Under Construction         1790   84.13 L    BUILDER         Kompally   \n",
       "14  Under Construction         3120   1.46 Cr    BUILDER     Shankarpalli   \n",
       "15       Ready to move         1415   96.22 L    BUILDER     Nanakramguda   \n",
       "16  Under Construction         1503   63.11 L    BUILDER        Mallampet   \n",
       "17       Ready to move         3498    2.9 Cr    BUILDER      Hitech City   \n",
       "18  Under Construction         1704   97.11 L    BUILDER        Manikonda   \n",
       "19       Ready to move         2965   3.04 Cr    BUILDER         Shaikpet   \n",
       "\n",
       "                 BHK  \n",
       "0                  3  \n",
       "1                  2  \n",
       "2                  2  \n",
       "3                  2  \n",
       "4                  3  \n",
       "5                  3  \n",
       "6                  4  \n",
       "7                  3  \n",
       "8   Residential Plot  \n",
       "9                  3  \n",
       "10                 4  \n",
       "11                 2  \n",
       "12                 2  \n",
       "13                 3  \n",
       "14                 3  \n",
       "15                 3  \n",
       "16                 3  \n",
       "17                 4  \n",
       "18                 3  \n",
       "19                 4  "
      ]
     },
     "execution_count": 35,
     "metadata": {},
     "output_type": "execute_result"
    }
   ],
   "source": [
    "data=pd.DataFrame({'Construction':CON_info,\n",
    "                  'Area_in_Sqft':Area_sqft,\n",
    "                  'Price':Price_info,\n",
    "                  'Owner_info':OWN_inf,\n",
    "                  'Locality':LOC_info,\n",
    "                  'BHK':BHK_info})\n",
    "data"
   ]
  },
  {
   "cell_type": "code",
   "execution_count": 36,
   "metadata": {},
   "outputs": [],
   "source": [
    "data.to_csv('apartment_data.csv')"
   ]
  },
  {
   "cell_type": "code",
   "execution_count": 37,
   "metadata": {},
   "outputs": [
    {
     "name": "stdout",
     "output_type": "stream",
     "text": [
      "https://www.makaan.com/hyderabad-residential-property/buy-property-in-hyderabad-city?_=1624536394722&page=1\n",
      "https://www.makaan.com/hyderabad-residential-property/buy-property-in-hyderabad-city?_=1624536394722&page=2\n",
      "https://www.makaan.com/hyderabad-residential-property/buy-property-in-hyderabad-city?_=1624536394722&page=3\n",
      "https://www.makaan.com/hyderabad-residential-property/buy-property-in-hyderabad-city?_=1624536394722&page=4\n",
      "https://www.makaan.com/hyderabad-residential-property/buy-property-in-hyderabad-city?_=1624536394722&page=5\n"
     ]
    }
   ],
   "source": [
    "# To get data from all pages\n",
    "# First generate url\n",
    "\n",
    "#https://www.makaan.com/hyderabad-residential-property/buy-property-in-hyderabad-city?_=1624536394722\n",
    "#https://www.makaan.com/hyderabad-residential-property/buy-property-in-hyderabad-city?_=1624536394722&page=4\n",
    "#https://www.makaan.com/hyderabad-residential-property/buy-property-in-hyderabad-city?_=1624536394722&page=3\n",
    "\n",
    "\n",
    "import time\n",
    "\n",
    "base_url='https://www.makaan.com/hyderabad-residential-property/buy-property-in-hyderabad-city?_=1624536394722'\n",
    "\n",
    "for i in range(1,6):\n",
    "    print(base_url+'&page='+str(i))"
   ]
  },
  {
   "cell_type": "code",
   "execution_count": 53,
   "metadata": {},
   "outputs": [],
   "source": [
    "# To make request\n",
    "\n",
    "owner_info=[]\n",
    "no_BHK=[]\n",
    "constr=[]\n",
    "Ar=[]\n",
    "loc=[]\n",
    "Cost=[]\n",
    "\n",
    "for i in range(1,6):\n",
    "    time.sleep(3)\n",
    "    url=base_url+'&page='+str(i)\n",
    "    req=requests.get(url)\n",
    "    soup=BeautifulSoup(req.text,'html')\n",
    "    \n",
    "    \n",
    "    bhk_inf=soup.findAll('div',attrs={'class':'title-line'})\n",
    "    for j in bhk_inf:\n",
    "        no_BHK.append(j.strong.span.text)\n",
    "        \n",
    "    loc_inf=soup.findAll('span',attrs={'itemprop':'addressLocality'})\n",
    "    for k in loc_inf:\n",
    "        loc.append(k.text)\n",
    "        \n",
    "    own_inf=soup.findAll('span',attrs={'class':'seller-type'})\n",
    "    for l in own_inf:\n",
    "        owner_info.append(l.text)\n",
    "        \n",
    "    price=soup.findAll('div',attrs={'data-type':'price-link'})\n",
    "    for m in price:\n",
    "        Cost.append(m.text)\n",
    "        \n",
    "    area=soup.findAll('td',attrs={'class':'size'})\n",
    "    for n in area:\n",
    "        Ar.append(n.span.text.strip())\n",
    "        \n",
    "    \n",
    "    con_inf=soup.findAll('td',attrs={'class':'val'})\n",
    "    for o in con_inf:\n",
    "        constr.append(o.text)\n",
    "    \n",
    "\n",
    "    \n",
    "    "
   ]
  },
  {
   "cell_type": "code",
   "execution_count": 54,
   "metadata": {},
   "outputs": [
    {
     "name": "stdout",
     "output_type": "stream",
     "text": [
      "100\n"
     ]
    }
   ],
   "source": [
    "print(len(no_BHK))"
   ]
  },
  {
   "cell_type": "code",
   "execution_count": 55,
   "metadata": {},
   "outputs": [
    {
     "data": {
      "text/html": [
       "<div>\n",
       "<style scoped>\n",
       "    .dataframe tbody tr th:only-of-type {\n",
       "        vertical-align: middle;\n",
       "    }\n",
       "\n",
       "    .dataframe tbody tr th {\n",
       "        vertical-align: top;\n",
       "    }\n",
       "\n",
       "    .dataframe thead th {\n",
       "        text-align: right;\n",
       "    }\n",
       "</style>\n",
       "<table border=\"1\" class=\"dataframe\">\n",
       "  <thead>\n",
       "    <tr style=\"text-align: right;\">\n",
       "      <th></th>\n",
       "      <th>Construction</th>\n",
       "      <th>Area_in_Sqft</th>\n",
       "      <th>Price</th>\n",
       "      <th>Owner_info</th>\n",
       "      <th>Locality</th>\n",
       "      <th>BHK</th>\n",
       "    </tr>\n",
       "  </thead>\n",
       "  <tbody>\n",
       "    <tr>\n",
       "      <th>0</th>\n",
       "      <td>Under Construction</td>\n",
       "      <td>2810</td>\n",
       "      <td>1.6 Cr</td>\n",
       "      <td>BUILDER</td>\n",
       "      <td>Manikonda</td>\n",
       "      <td>3</td>\n",
       "    </tr>\n",
       "    <tr>\n",
       "      <th>1</th>\n",
       "      <td>Ready to move</td>\n",
       "      <td>1495</td>\n",
       "      <td>1.43 Cr</td>\n",
       "      <td>BUILDER</td>\n",
       "      <td>Shaikpet</td>\n",
       "      <td>2</td>\n",
       "    </tr>\n",
       "    <tr>\n",
       "      <th>2</th>\n",
       "      <td>Under Construction</td>\n",
       "      <td>1295</td>\n",
       "      <td>56.98 L</td>\n",
       "      <td>BUILDER</td>\n",
       "      <td>Bachupally</td>\n",
       "      <td>2</td>\n",
       "    </tr>\n",
       "    <tr>\n",
       "      <th>3</th>\n",
       "      <td>Under Construction</td>\n",
       "      <td>890</td>\n",
       "      <td>43.6 L</td>\n",
       "      <td>BUILDER</td>\n",
       "      <td>Shamshabad</td>\n",
       "      <td>2</td>\n",
       "    </tr>\n",
       "    <tr>\n",
       "      <th>4</th>\n",
       "      <td>Under Construction</td>\n",
       "      <td>1431</td>\n",
       "      <td>65.82 L</td>\n",
       "      <td>BUILDER</td>\n",
       "      <td>Tellapur</td>\n",
       "      <td>3</td>\n",
       "    </tr>\n",
       "    <tr>\n",
       "      <th>...</th>\n",
       "      <td>...</td>\n",
       "      <td>...</td>\n",
       "      <td>...</td>\n",
       "      <td>...</td>\n",
       "      <td>...</td>\n",
       "      <td>...</td>\n",
       "    </tr>\n",
       "    <tr>\n",
       "      <th>95</th>\n",
       "      <td>Ready to move</td>\n",
       "      <td>1870</td>\n",
       "      <td>1.66 Cr</td>\n",
       "      <td>OWNER</td>\n",
       "      <td>Nanakramguda</td>\n",
       "      <td>3</td>\n",
       "    </tr>\n",
       "    <tr>\n",
       "      <th>96</th>\n",
       "      <td>Under Construction</td>\n",
       "      <td>1800</td>\n",
       "      <td>1 Cr</td>\n",
       "      <td>OWNER</td>\n",
       "      <td>Kondakal</td>\n",
       "      <td>4</td>\n",
       "    </tr>\n",
       "    <tr>\n",
       "      <th>97</th>\n",
       "      <td>Ready to move</td>\n",
       "      <td>864</td>\n",
       "      <td>32 L</td>\n",
       "      <td>OWNER</td>\n",
       "      <td>Jeedimetla</td>\n",
       "      <td>2</td>\n",
       "    </tr>\n",
       "    <tr>\n",
       "      <th>98</th>\n",
       "      <td>Ready to move</td>\n",
       "      <td>1220</td>\n",
       "      <td>65 L</td>\n",
       "      <td>OWNER</td>\n",
       "      <td>Suchitra</td>\n",
       "      <td>2</td>\n",
       "    </tr>\n",
       "    <tr>\n",
       "      <th>99</th>\n",
       "      <td>Resale</td>\n",
       "      <td>1500</td>\n",
       "      <td>28 L</td>\n",
       "      <td>OWNER</td>\n",
       "      <td>Shankarpalli</td>\n",
       "      <td>Residential Plot</td>\n",
       "    </tr>\n",
       "  </tbody>\n",
       "</table>\n",
       "<p>100 rows × 6 columns</p>\n",
       "</div>"
      ],
      "text/plain": [
       "          Construction Area_in_Sqft     Price Owner_info      Locality  \\\n",
       "0   Under Construction         2810    1.6 Cr    BUILDER     Manikonda   \n",
       "1        Ready to move         1495   1.43 Cr    BUILDER      Shaikpet   \n",
       "2   Under Construction         1295   56.98 L    BUILDER    Bachupally   \n",
       "3   Under Construction          890    43.6 L    BUILDER    Shamshabad   \n",
       "4   Under Construction         1431   65.82 L    BUILDER      Tellapur   \n",
       "..                 ...          ...       ...        ...           ...   \n",
       "95       Ready to move         1870   1.66 Cr      OWNER  Nanakramguda   \n",
       "96  Under Construction         1800      1 Cr      OWNER      Kondakal   \n",
       "97       Ready to move          864      32 L      OWNER    Jeedimetla   \n",
       "98       Ready to move         1220      65 L      OWNER      Suchitra   \n",
       "99              Resale         1500      28 L      OWNER  Shankarpalli   \n",
       "\n",
       "                 BHK  \n",
       "0                 3   \n",
       "1                 2   \n",
       "2                 2   \n",
       "3                 2   \n",
       "4                 3   \n",
       "..               ...  \n",
       "95                3   \n",
       "96                4   \n",
       "97                2   \n",
       "98                2   \n",
       "99  Residential Plot  \n",
       "\n",
       "[100 rows x 6 columns]"
      ]
     },
     "execution_count": 55,
     "metadata": {},
     "output_type": "execute_result"
    }
   ],
   "source": [
    "# creating dataframe\n",
    "\n",
    "datas=pd.DataFrame({'Construction':constr,\n",
    "                  'Area_in_Sqft':Ar,\n",
    "                  'Price':Cost,\n",
    "                  'Owner_info':owner_info,\n",
    "                  'Locality':loc,\n",
    "                  'BHK':no_BHK})\n",
    "datas"
   ]
  },
  {
   "cell_type": "code",
   "execution_count": 57,
   "metadata": {},
   "outputs": [],
   "source": [
    "datas.to_csv('Makaan_data.csv')"
   ]
  },
  {
   "cell_type": "code",
   "execution_count": null,
   "metadata": {},
   "outputs": [],
   "source": []
  }
 ],
 "metadata": {
  "kernelspec": {
   "display_name": "Python 3",
   "language": "python",
   "name": "python3"
  },
  "language_info": {
   "codemirror_mode": {
    "name": "ipython",
    "version": 3
   },
   "file_extension": ".py",
   "mimetype": "text/x-python",
   "name": "python",
   "nbconvert_exporter": "python",
   "pygments_lexer": "ipython3",
   "version": "3.8.3"
  }
 },
 "nbformat": 4,
 "nbformat_minor": 4
}
